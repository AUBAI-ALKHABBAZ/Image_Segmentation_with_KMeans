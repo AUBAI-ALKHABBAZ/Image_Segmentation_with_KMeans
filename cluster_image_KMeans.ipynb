{
  "nbformat": 4,
  "nbformat_minor": 0,
  "metadata": {
    "colab": {
      "provenance": [],
      "authorship_tag": "ABX9TyOKx9Be96nojOdWFjlIJBI2",
      "include_colab_link": true
    },
    "kernelspec": {
      "name": "python3",
      "display_name": "Python 3"
    },
    "language_info": {
      "name": "python"
    }
  },
  "cells": [
    {
      "cell_type": "markdown",
      "metadata": {
        "id": "view-in-github",
        "colab_type": "text"
      },
      "source": [
        "<a href=\"https://colab.research.google.com/github/AUBAI-ALKHABBAZ/AUBAI-ALKHABBAZ/blob/main/cluster_image_KMeans.ipynb\" target=\"_parent\"><img src=\"https://colab.research.google.com/assets/colab-badge.svg\" alt=\"Open In Colab\"/></a>"
      ]
    },
    {
      "cell_type": "code",
      "execution_count": 1,
      "metadata": {
        "id": "nu5iTUMXsOfp"
      },
      "outputs": [],
      "source": [
        "from collections import Counter\n",
        "from sklearn.cluster import KMeans\n",
        "import matplotlib.pyplot as plt \n",
        "import numpy as np\n",
        "import cv2\n",
        "import webcolors\n",
        "def rgb_to_hex(rgb_color):\n",
        "  hex_color = \"#\"\n",
        "  for i in rgb_color:\n",
        "    i = int(i)\n",
        "    hex_color += (\"{:02x}\".format(i))\n",
        "  return hex_color\n"
      ]
    },
    {
      "cell_type": "code",
      "source": [
        "img_name = \"/content/appl_test_2.jpeg\"\n",
        "raw_img = cv2.imread(img_name)\n",
        "raw_img = cv2.cvtColor(raw_img,cv2.COLOR_BGR2RGB)\n",
        "img = cv2.resize(raw_img,(900,600),interpolation = cv2.INTER_AREA)"
      ],
      "metadata": {
        "id": "ZkfzNwRXsSQD"
      },
      "execution_count": 2,
      "outputs": []
    },
    {
      "cell_type": "code",
      "source": [
        "img = img.reshape(img.shape[0]*img.shape[1],3)"
      ],
      "metadata": {
        "id": "YRd0hxCNsUUB"
      },
      "execution_count": 3,
      "outputs": []
    },
    {
      "cell_type": "code",
      "source": [
        "clf = KMeans(n_clusters=5)\n",
        "color_labels = clf.fit_predict(img)\n",
        "center_colors = clf.cluster_centers_"
      ],
      "metadata": {
        "colab": {
          "base_uri": "https://localhost:8080/"
        },
        "id": "9qo8wMsMsWTs",
        "outputId": "0c9b1c57-d1e4-4511-e39f-3e3acc76d802"
      },
      "execution_count": 4,
      "outputs": [
        {
          "output_type": "stream",
          "name": "stderr",
          "text": [
            "/usr/local/lib/python3.9/dist-packages/sklearn/cluster/_kmeans.py:870: FutureWarning: The default value of `n_init` will change from 10 to 'auto' in 1.4. Set the value of `n_init` explicitly to suppress the warning\n",
            "  warnings.warn(\n"
          ]
        }
      ]
    },
    {
      "cell_type": "code",
      "source": [
        "count = Counter(color_labels)"
      ],
      "metadata": {
        "id": "cDmfDBw4sYXI"
      },
      "execution_count": 5,
      "outputs": []
    },
    {
      "cell_type": "code",
      "source": [
        "ordered_colors = [center_colors[i] for i in count.keys()]\n",
        "hex_colors = [rgb_to_hex(ordered_colors[i]) for i in count.keys()]"
      ],
      "metadata": {
        "id": "J0GjMzbNsZ-x"
      },
      "execution_count": 6,
      "outputs": []
    },
    {
      "cell_type": "code",
      "source": [
        "labels=list(color_labels)\n",
        "percent=[]\n",
        "for i in range(len(center_colors)):\n",
        "  j=labels.count(i)\n",
        "  j=j/(len(labels))\n",
        "  percent.append(round((j*100),1))"
      ],
      "metadata": {
        "id": "pQkg8DPtsdIw"
      },
      "execution_count": null,
      "outputs": []
    },
    {
      "cell_type": "code",
      "source": [
        "res = {}\n",
        "for key in hex_colors:\n",
        "    for value in percent:\n",
        "\n",
        "        res[key] = value\n",
        "        percent.remove(value)\n",
        "        break\n",
        " \n",
        "# Printing resultant dictionary\n",
        "print(\"Resultant dictionary is : \" + str(res))"
      ],
      "metadata": {
        "colab": {
          "base_uri": "https://localhost:8080/"
        },
        "id": "owYv0Cf6sgPS",
        "outputId": "5ec5dd3a-c3ff-409a-fc31-bddf68fb6ce7"
      },
      "execution_count": null,
      "outputs": [
        {
          "output_type": "stream",
          "name": "stdout",
          "text": [
            "Resultant dictionary is : {'#fdfdfd': 69.6, '#54402f': 11.4, '#ae8b6b': 11.2, '#cec9c4': 3.9, '#966949': 3.9}\n"
          ]
        }
      ]
    },
    {
      "cell_type": "code",
      "source": [
        "def hex_to_rgb(hex):\n",
        "  rgb = []\n",
        "  for i in (0, 2, 4):\n",
        "    decimal = int(hex[i:i+2], 16)\n",
        "    rgb.append(decimal)\n",
        "  \n",
        "  return tuple(rgb)\n",
        "\n",
        "print(hex_to_rgb('FFA501'))"
      ],
      "metadata": {
        "colab": {
          "base_uri": "https://localhost:8080/"
        },
        "id": "0VwaENtxxvRs",
        "outputId": "68c43ae7-ac1a-47de-9425-e1333a3f4e41"
      },
      "execution_count": null,
      "outputs": [
        {
          "output_type": "stream",
          "name": "stdout",
          "text": [
            "(255, 165, 1)\n"
          ]
        }
      ]
    },
    {
      "cell_type": "code",
      "source": [
        "key_max = max(res ,key = lambda x:res[x])\n",
        "key_max = '#ff0000'\n",
        "key_max_3 ='#8B0000' \n",
        "hex_name = webcolors.hex_to_name(key_max_3)\n",
        "hex_name_1 = webcolors.hex_to_name(key_max_3)\n",
        "if hex_name == 'red':\n",
        "    print(\" its a red apple \") \n",
        "elif  hex_name_1 == 'darkred':\n",
        "     print(\" its a red darkred \") \n"
      ],
      "metadata": {
        "colab": {
          "base_uri": "https://localhost:8080/"
        },
        "id": "aXUmMRyovcL7",
        "outputId": "e124bf41-bc1a-41e0-b53f-a092967fa54a"
      },
      "execution_count": null,
      "outputs": [
        {
          "output_type": "stream",
          "name": "stdout",
          "text": [
            " its a red darkred \n"
          ]
        }
      ]
    },
    {
      "cell_type": "code",
      "source": [
        "import webcolors\n",
        "key_max = '#ff0000' \n",
        "#key_max_1 =key_max.split('#')\n",
        "#named_color = webcolors.rgb_to_name(hex_to_rgb('ff000'), spec='css3')\n",
        "hex_name = webcolors.hex_to_name(key_max)\n",
        "#print(named_color)\n",
        "print(hex_name)\n"
      ],
      "metadata": {
        "colab": {
          "base_uri": "https://localhost:8080/"
        },
        "id": "TlHhHEk0lyXc",
        "outputId": "5f517c65-95e0-4c4f-8e53-f0df2a8207b0"
      },
      "execution_count": null,
      "outputs": [
        {
          "output_type": "stream",
          "name": "stdout",
          "text": [
            "red\n"
          ]
        }
      ]
    },
    {
      "cell_type": "code",
      "source": [
        "fig =plt.figure(figsize=(12,8))\n",
        "fig.patch.set_facecolor('blue')\n",
        "\n",
        "plt.pie(count.values(),labels=hex_colors,colors = hex_colors)\n",
        "print(hex_colors)"
      ],
      "metadata": {
        "colab": {
          "base_uri": "https://localhost:8080/",
          "height": 671
        },
        "id": "_DGsh20csjIr",
        "outputId": "c634010c-fe63-4b19-8382-4a44695e949e"
      },
      "execution_count": 10,
      "outputs": [
        {
          "output_type": "stream",
          "name": "stdout",
          "text": [
            "['#434053', '#8a707d', '#96caea', '#27232d', '#b9b988']\n"
          ]
        },
        {
          "output_type": "display_data",
          "data": {
            "text/plain": [
              "<Figure size 1200x800 with 1 Axes>"
            ],
            "image/png": "[encoded data removed]"
          },
          "metadata": {}
        }
      ]
    },
    {
      "cell_type": "code",
      "source": [
        "'''import cv2\n",
        "import sys\n",
        "import glob\n",
        "import webcolors\n",
        "import numpy as np\n",
        "import matplotlib.pyplot as plt\n",
        "\n",
        "from sklearn.cluster import KMeans\n",
        "from sklearn.metrics import mean_squared_error\n",
        "from collections import Counter\n",
        "# Source: https://gist.github.com/kb22/f17e59a79d4fcca02188c23cca932be5#file-rgb2hex-py\n",
        "def rgb2hex(c):\n",
        "    return \"#{:02x}{:02x}{:02x}\".format(int(c[0]), int(c[1]), int(c[2]))  # format(int(c[0]), int(c[1]), int(c[2]))\n",
        "\n",
        "\n",
        "def hex2name(c):\n",
        "    h_color = '#{:02x}{:02x}{:02x}'.format(int(c[0]), int(c[1]), int(c[2]))\n",
        "    try:\n",
        "        nm = webcolors.hex_to_name(h_color, spec='css3')\n",
        "    except ValueError as v_error:\n",
        "        print(\"{}\".format(v_error))\n",
        "        rms_lst = []\n",
        "        for img_clr, img_hex in webcolors.CSS3_NAMES_TO_HEX.items():\n",
        "            cur_clr = webcolors.hex_to_rgb(img_hex)\n",
        "            rmse = np.sqrt(mean_squared_error(c, cur_clr))\n",
        "            rms_lst.append(rmse)\n",
        "\n",
        "        closest_color = rms_lst.index(min(rms_lst))\n",
        "\n",
        "        nm = list(webcolors.CSS3_NAMES_TO_HEX.items())[closest_color][0]\n",
        "    return nm\n",
        "\n",
        "\n",
        "img = cv2.imread(\"/content/rott.jpg\")\n",
        "img2 = img.reshape(img.shape[0] * img.shape[1], 3)\n",
        "color = KMeans(n_clusters=3)\n",
        "lbl = color.fit_predict(img2)\n",
        "cnt = Counter(lbl)\n",
        "center_color = color.cluster_centers_\n",
        "ord_color = [center_color[i] for i in cnt.keys()]\n",
        "hex_color = [rgb2hex(ord_color[i]) for i in cnt.keys()]\n",
        "lbl_color = [hex2name(ord_color[i]) for i in cnt.keys()]\n",
        "plt.pie(cnt.values(), labels=lbl_color, colors=hex_color)\n",
        "plt.show()'''"
      ],
      "metadata": {
        "colab": {
          "base_uri": "https://localhost:8080/",
          "height": 145
        },
        "id": "YgOkrjj5ou2L",
        "outputId": "43bffa28-d405-4aaa-cc75-a1caa39f286d"
      },
      "execution_count": 11,
      "outputs": [
        {
          "output_type": "execute_result",
          "data": {
            "text/plain": [
              "'import cv2\\nimport sys\\nimport glob\\nimport webcolors\\nimport numpy as np\\nimport matplotlib.pyplot as plt\\n\\nfrom sklearn.cluster import KMeans\\nfrom sklearn.metrics import mean_squared_error\\nfrom collections import Counter\\n# Source: https://gist.github.com/kb22/f17e59a79d4fcca02188c23cca932be5#file-rgb2hex-py\\ndef rgb2hex(c):\\n    return \"#{:02x}{:02x}{:02x}\".format(int(c[0]), int(c[1]), int(c[2]))  # format(int(c[0]), int(c[1]), int(c[2]))\\n\\n\\ndef hex2name(c):\\n    h_color = \\'#{:02x}{:02x}{:02x}\\'.format(int(c[0]), int(c[1]), int(c[2]))\\n    try:\\n        nm = webcolors.hex_to_name(h_color, spec=\\'css3\\')\\n    except ValueError as v_error:\\n        print(\"{}\".format(v_error))\\n        rms_lst = []\\n        for img_clr, img_hex in webcolors.CSS3_NAMES_TO_HEX.items():\\n            cur_clr = webcolors.hex_to_rgb(img_hex)\\n            rmse = np.sqrt(mean_squared_error(c, cur_clr))\\n            rms_lst.append(rmse)\\n\\n        closest_color = rms_lst.index(min(rms_lst))\\n\\n        nm = list(webcolors.CSS3_NAMES_TO_HEX.items())[closest_color][0]\\n    return nm\\n\\n\\nimg = cv2.imread(\"/content/rott.jpg\")\\nimg2 = img.reshape(img.shape[0] * img.shape[1], 3)\\ncolor = KMeans(n_clusters=3)\\nlbl = color.fit_predict(img2)\\ncnt = Counter(lbl)\\ncenter_color = color.cluster_centers_\\nord_color = [center_color[i] for i in cnt.keys()]\\nhex_color = [rgb2hex(ord_color[i]) for i in cnt.keys()]\\nlbl_color = [hex2name(ord_color[i]) for i in cnt.keys()]\\nplt.pie(cnt.values(), labels=lbl_color, colors=hex_color)\\nplt.show()'"
            ],
            "application/vnd.google.colaboratory.intrinsic+json": {
              "type": "string"
            }
          },
          "metadata": {},
          "execution_count": 11
        }
      ]
    }
  ]
}